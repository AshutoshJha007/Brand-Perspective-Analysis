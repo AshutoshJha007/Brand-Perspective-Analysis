{
 "cells": [
  {
   "cell_type": "code",
   "execution_count": 38,
   "metadata": {
    "collapsed": true
   },
   "outputs": [],
   "source": [
    "# General:\n",
    "import tweepy           # To consume Twitter's API\n",
    "import pandas as pd     # To handle data\n",
    "import numpy as np      # For number computing\n",
    "import json\n",
    "\n",
    "# For plotting and visualization:\n",
    "from IPython.display import display\n",
    "import matplotlib.pyplot as plt\n",
    "import seaborn as sns\n",
    "%matplotlib inline"
   ]
  },
  {
   "cell_type": "code",
   "execution_count": 39,
   "metadata": {
    "collapsed": true
   },
   "outputs": [],
   "source": [
    "# Twitter App access keys for @user\n",
    "\n",
    "# Consume:\n",
    "CONSUMER_KEY    = ''\n",
    "CONSUMER_SECRET = ''\n",
    "\n",
    "# Access:\n",
    "ACCESS_TOKEN  = ''\n",
    "ACCESS_SECRET = ''"
   ]
  },
  {
   "cell_type": "code",
   "execution_count": 40,
   "metadata": {
    "collapsed": false
   },
   "outputs": [],
   "source": [
    "# We import our access keys:\n",
    "#from credentials import *    # This will allow us to use the keys as variables\n",
    "\n",
    "# API's setup:\n",
    "def twitter_setup():\n",
    "    \"\"\"\n",
    "    Utility function to setup the Twitter's API\n",
    "    with our access keys provided.\n",
    "    \"\"\"\n",
    "    # Authentication and access using keys:\n",
    "    auth = tweepy.OAuthHandler(CONSUMER_KEY, CONSUMER_SECRET)\n",
    "    auth.set_access_token(ACCESS_TOKEN, ACCESS_SECRET)\n",
    "\n",
    "    # Return API with authentication:\n",
    "    api = tweepy.API(auth)\n",
    "    return api"
   ]
  },
  {
   "cell_type": "code",
   "execution_count": 41,
   "metadata": {
    "collapsed": false
   },
   "outputs": [
    {
     "name": "stdout",
     "output_type": "stream",
     "text": [
      "Number of tweets extracted: 200.\n",
      "\n",
      "5 recent tweets:\n",
      "\n",
      "@tiamaria68uk Plus a towel and a sign saying “Don’t Panic”\n",
      "\n",
      "On Tuesday, SpaceX will attempt to refly both an orbital rocket and spacecraft for the first… https://t.co/Wm5SpjNdMb\n",
      "\n",
      "@tiamaria68uk Yes\n",
      "\n",
      "@FortuneTech Do it\n",
      "\n",
      "The *real* money comes from merchandising. I learned it from this documentary https://t.co/E4gpqhl6KF\n",
      "\n"
     ]
    }
   ],
   "source": [
    "# We create an extractor object:\n",
    "extractor = twitter_setup()\n",
    "\n",
    "# We create a tweet list as follows:\n",
    "tweets = extractor.user_timeline(screen_name=\"elonmusk\", count = 200)\n",
    "\n",
    "print(\"Number of tweets extracted: {}.\\n\".format(len(tweets)))\n",
    "\n",
    "# We print the most recent 5 tweets:\n",
    "print(\"5 recent tweets:\\n\")\n",
    "for tweet in tweets[:5]:\n",
    "    print(tweet.text)\n",
    "    print()"
   ]
  },
  {
   "cell_type": "code",
   "execution_count": 42,
   "metadata": {
    "collapsed": false
   },
   "outputs": [
    {
     "data": {
      "text/html": [
       "<div>\n",
       "<table border=\"1\" class=\"dataframe\">\n",
       "  <thead>\n",
       "    <tr style=\"text-align: right;\">\n",
       "      <th></th>\n",
       "      <th>Tweets</th>\n",
       "    </tr>\n",
       "  </thead>\n",
       "  <tbody>\n",
       "    <tr>\n",
       "      <th>0</th>\n",
       "      <td>@tiamaria68uk Plus a towel and a sign saying “...</td>\n",
       "    </tr>\n",
       "    <tr>\n",
       "      <th>1</th>\n",
       "      <td>On Tuesday, SpaceX will attempt to refly both ...</td>\n",
       "    </tr>\n",
       "    <tr>\n",
       "      <th>2</th>\n",
       "      <td>@tiamaria68uk Yes</td>\n",
       "    </tr>\n",
       "    <tr>\n",
       "      <th>3</th>\n",
       "      <td>@FortuneTech Do it</td>\n",
       "    </tr>\n",
       "    <tr>\n",
       "      <th>4</th>\n",
       "      <td>The *real* money comes from merchandising. I l...</td>\n",
       "    </tr>\n",
       "    <tr>\n",
       "      <th>5</th>\n",
       "      <td>@sm_carl Deal</td>\n",
       "    </tr>\n",
       "    <tr>\n",
       "      <th>6</th>\n",
       "      <td>That special hat delivery will take place deep...</td>\n",
       "    </tr>\n",
       "    <tr>\n",
       "      <th>7</th>\n",
       "      <td>@NefuDaBoss Beyond anything you can imagine</td>\n",
       "    </tr>\n",
       "    <tr>\n",
       "      <th>8</th>\n",
       "      <td>@TheRealUtkarsh And, at the risk of stating th...</td>\n",
       "    </tr>\n",
       "    <tr>\n",
       "      <th>9</th>\n",
       "      <td>@TheRealUtkarsh Because it’s stupid</td>\n",
       "    </tr>\n",
       "  </tbody>\n",
       "</table>\n",
       "</div>"
      ],
      "text/plain": [
       "                                              Tweets\n",
       "0  @tiamaria68uk Plus a towel and a sign saying “...\n",
       "1  On Tuesday, SpaceX will attempt to refly both ...\n",
       "2                                  @tiamaria68uk Yes\n",
       "3                                 @FortuneTech Do it\n",
       "4  The *real* money comes from merchandising. I l...\n",
       "5                                      @sm_carl Deal\n",
       "6  That special hat delivery will take place deep...\n",
       "7        @NefuDaBoss Beyond anything you can imagine\n",
       "8  @TheRealUtkarsh And, at the risk of stating th...\n",
       "9                @TheRealUtkarsh Because it’s stupid"
      ]
     },
     "metadata": {},
     "output_type": "display_data"
    }
   ],
   "source": [
    "# We create a pandas dataframe as follows:\n",
    "data = pd.DataFrame(data=[tweet.text for tweet in tweets], columns=['Tweets'])\n",
    "\n",
    "# We display the first 10 elements of the dataframe:\n",
    "display(data.head(10))"
   ]
  },
  {
   "cell_type": "code",
   "execution_count": 22,
   "metadata": {
    "collapsed": false
   },
   "outputs": [
    {
     "name": "stdout",
     "output_type": "stream",
     "text": [
      "['__class__', '__delattr__', '__dict__', '__dir__', '__doc__', '__eq__', '__format__', '__ge__', '__getattribute__', '__getstate__', '__gt__', '__hash__', '__init__', '__init_subclass__', '__le__', '__lt__', '__module__', '__ne__', '__new__', '__reduce__', '__reduce_ex__', '__repr__', '__setattr__', '__sizeof__', '__str__', '__subclasshook__', '__weakref__', '_api', '_json', 'author', 'contributors', 'coordinates', 'created_at', 'destroy', 'entities', 'favorite', 'favorite_count', 'favorited', 'geo', 'id', 'id_str', 'in_reply_to_screen_name', 'in_reply_to_status_id', 'in_reply_to_status_id_str', 'in_reply_to_user_id', 'in_reply_to_user_id_str', 'is_quote_status', 'lang', 'parse', 'parse_list', 'place', 'retweet', 'retweet_count', 'retweeted', 'retweets', 'source', 'source_url', 'text', 'truncated', 'user']\n"
     ]
    }
   ],
   "source": [
    "# Internal methods of a single tweet object:\n",
    "print(dir(tweets[0]))"
   ]
  },
  {
   "cell_type": "code",
   "execution_count": 43,
   "metadata": {
    "collapsed": false
   },
   "outputs": [
    {
     "name": "stdout",
     "output_type": "stream",
     "text": [
      "939005893634506752\n",
      "2017-12-08 05:37:05\n",
      "Twitter for iPhone\n",
      "580\n",
      "59\n",
      "None\n",
      "None\n",
      "{'hashtags': [], 'symbols': [], 'user_mentions': [{'screen_name': 'tiamaria68uk', 'name': 'TweetleTi', 'id': 74323453, 'id_str': '74323453', 'indices': [0, 13]}], 'urls': []}\n"
     ]
    }
   ],
   "source": [
    "# We print info from the first tweet:\n",
    "print(tweets[0].id)\n",
    "print(tweets[0].created_at)\n",
    "print(tweets[0].source)\n",
    "print(tweets[0].favorite_count)\n",
    "print(tweets[0].retweet_count)\n",
    "print(tweets[0].geo)\n",
    "print(tweets[0].coordinates)\n",
    "print(tweets[0].entities)"
   ]
  },
  {
   "cell_type": "code",
   "execution_count": 44,
   "metadata": {
    "collapsed": true
   },
   "outputs": [],
   "source": [
    "# We add relevant data:\n",
    "data['len']  = np.array([len(tweet.text) for tweet in tweets])\n",
    "data['ID']   = np.array([tweet.id for tweet in tweets])\n",
    "data['Date'] = np.array([tweet.created_at for tweet in tweets])\n",
    "data['Source'] = np.array([tweet.source for tweet in tweets])\n",
    "data['Likes']  = np.array([tweet.favorite_count for tweet in tweets])\n",
    "data['RTs']    = np.array([tweet.retweet_count for tweet in tweets])"
   ]
  },
  {
   "cell_type": "code",
   "execution_count": 45,
   "metadata": {
    "collapsed": false
   },
   "outputs": [
    {
     "data": {
      "text/html": [
       "<div>\n",
       "<table border=\"1\" class=\"dataframe\">\n",
       "  <thead>\n",
       "    <tr style=\"text-align: right;\">\n",
       "      <th></th>\n",
       "      <th>Tweets</th>\n",
       "      <th>len</th>\n",
       "      <th>ID</th>\n",
       "      <th>Date</th>\n",
       "      <th>Source</th>\n",
       "      <th>Likes</th>\n",
       "      <th>RTs</th>\n",
       "    </tr>\n",
       "  </thead>\n",
       "  <tbody>\n",
       "    <tr>\n",
       "      <th>0</th>\n",
       "      <td>@tiamaria68uk Plus a towel and a sign saying “...</td>\n",
       "      <td>58</td>\n",
       "      <td>939005893634506752</td>\n",
       "      <td>2017-12-08 05:37:05</td>\n",
       "      <td>Twitter for iPhone</td>\n",
       "      <td>580</td>\n",
       "      <td>59</td>\n",
       "    </tr>\n",
       "    <tr>\n",
       "      <th>1</th>\n",
       "      <td>On Tuesday, SpaceX will attempt to refly both ...</td>\n",
       "      <td>117</td>\n",
       "      <td>938972633416306690</td>\n",
       "      <td>2017-12-08 03:24:55</td>\n",
       "      <td>Instagram</td>\n",
       "      <td>26250</td>\n",
       "      <td>4217</td>\n",
       "    </tr>\n",
       "    <tr>\n",
       "      <th>2</th>\n",
       "      <td>@tiamaria68uk Yes</td>\n",
       "      <td>17</td>\n",
       "      <td>938947119246860290</td>\n",
       "      <td>2017-12-08 01:43:32</td>\n",
       "      <td>Twitter for iPhone</td>\n",
       "      <td>453</td>\n",
       "      <td>18</td>\n",
       "    </tr>\n",
       "    <tr>\n",
       "      <th>3</th>\n",
       "      <td>@FortuneTech Do it</td>\n",
       "      <td>18</td>\n",
       "      <td>938816780444745728</td>\n",
       "      <td>2017-12-07 17:05:37</td>\n",
       "      <td>Twitter for iPhone</td>\n",
       "      <td>96961</td>\n",
       "      <td>21306</td>\n",
       "    </tr>\n",
       "    <tr>\n",
       "      <th>4</th>\n",
       "      <td>The *real* money comes from merchandising. I l...</td>\n",
       "      <td>101</td>\n",
       "      <td>937447589460426752</td>\n",
       "      <td>2017-12-03 22:24:56</td>\n",
       "      <td>Twitter for iPhone</td>\n",
       "      <td>21032</td>\n",
       "      <td>3829</td>\n",
       "    </tr>\n",
       "    <tr>\n",
       "      <th>5</th>\n",
       "      <td>@sm_carl Deal</td>\n",
       "      <td>13</td>\n",
       "      <td>937446602393841664</td>\n",
       "      <td>2017-12-03 22:21:01</td>\n",
       "      <td>Twitter for iPhone</td>\n",
       "      <td>851</td>\n",
       "      <td>30</td>\n",
       "    </tr>\n",
       "    <tr>\n",
       "      <th>6</th>\n",
       "      <td>That special hat delivery will take place deep...</td>\n",
       "      <td>140</td>\n",
       "      <td>937411489635241984</td>\n",
       "      <td>2017-12-03 20:01:30</td>\n",
       "      <td>Twitter for iPhone</td>\n",
       "      <td>10399</td>\n",
       "      <td>822</td>\n",
       "    </tr>\n",
       "    <tr>\n",
       "      <th>7</th>\n",
       "      <td>@NefuDaBoss Beyond anything you can imagine</td>\n",
       "      <td>43</td>\n",
       "      <td>937405455768346624</td>\n",
       "      <td>2017-12-03 19:37:31</td>\n",
       "      <td>Twitter for iPhone</td>\n",
       "      <td>943</td>\n",
       "      <td>46</td>\n",
       "    </tr>\n",
       "    <tr>\n",
       "      <th>8</th>\n",
       "      <td>@TheRealUtkarsh And, at the risk of stating th...</td>\n",
       "      <td>73</td>\n",
       "      <td>937404412858740736</td>\n",
       "      <td>2017-12-03 19:33:22</td>\n",
       "      <td>Twitter for iPhone</td>\n",
       "      <td>1240</td>\n",
       "      <td>31</td>\n",
       "    </tr>\n",
       "    <tr>\n",
       "      <th>9</th>\n",
       "      <td>@TheRealUtkarsh Because it’s stupid</td>\n",
       "      <td>35</td>\n",
       "      <td>937403444192624640</td>\n",
       "      <td>2017-12-03 19:29:31</td>\n",
       "      <td>Twitter for iPhone</td>\n",
       "      <td>1045</td>\n",
       "      <td>36</td>\n",
       "    </tr>\n",
       "  </tbody>\n",
       "</table>\n",
       "</div>"
      ],
      "text/plain": [
       "                                              Tweets  len                  ID  \\\n",
       "0  @tiamaria68uk Plus a towel and a sign saying “...   58  939005893634506752   \n",
       "1  On Tuesday, SpaceX will attempt to refly both ...  117  938972633416306690   \n",
       "2                                  @tiamaria68uk Yes   17  938947119246860290   \n",
       "3                                 @FortuneTech Do it   18  938816780444745728   \n",
       "4  The *real* money comes from merchandising. I l...  101  937447589460426752   \n",
       "5                                      @sm_carl Deal   13  937446602393841664   \n",
       "6  That special hat delivery will take place deep...  140  937411489635241984   \n",
       "7        @NefuDaBoss Beyond anything you can imagine   43  937405455768346624   \n",
       "8  @TheRealUtkarsh And, at the risk of stating th...   73  937404412858740736   \n",
       "9                @TheRealUtkarsh Because it’s stupid   35  937403444192624640   \n",
       "\n",
       "                 Date              Source  Likes    RTs  \n",
       "0 2017-12-08 05:37:05  Twitter for iPhone    580     59  \n",
       "1 2017-12-08 03:24:55           Instagram  26250   4217  \n",
       "2 2017-12-08 01:43:32  Twitter for iPhone    453     18  \n",
       "3 2017-12-07 17:05:37  Twitter for iPhone  96961  21306  \n",
       "4 2017-12-03 22:24:56  Twitter for iPhone  21032   3829  \n",
       "5 2017-12-03 22:21:01  Twitter for iPhone    851     30  \n",
       "6 2017-12-03 20:01:30  Twitter for iPhone  10399    822  \n",
       "7 2017-12-03 19:37:31  Twitter for iPhone    943     46  \n",
       "8 2017-12-03 19:33:22  Twitter for iPhone   1240     31  \n",
       "9 2017-12-03 19:29:31  Twitter for iPhone   1045     36  "
      ]
     },
     "metadata": {},
     "output_type": "display_data"
    }
   ],
   "source": [
    "# Display of first 10 elements from dataframe:\n",
    "display(data.head(10))"
   ]
  },
  {
   "cell_type": "code",
   "execution_count": 26,
   "metadata": {
    "collapsed": false
   },
   "outputs": [
    {
     "name": "stdout",
     "output_type": "stream",
     "text": [
      "The lenght's average in tweets: 87.115\n"
     ]
    }
   ],
   "source": [
    "# We extract the mean of lenghts:\n",
    "mean = np.mean(data['len'])\n",
    "\n",
    "print(\"The lenght's average in tweets: {}\".format(mean))"
   ]
  },
  {
   "cell_type": "code",
   "execution_count": 27,
   "metadata": {
    "collapsed": false
   },
   "outputs": [
    {
     "name": "stdout",
     "output_type": "stream",
     "text": [
      "The tweet with more likes is: \n",
      "0 to 100 km/h in 1.9 sec https://t.co/xTOTDGuwQj\n",
      "Number of likes: 470920\n",
      "48 characters.\n",
      "\n",
      "The tweet with more retweets is: \n",
      "0 to 100 km/h in 1.9 sec https://t.co/xTOTDGuwQj\n",
      "Number of retweets: 123902\n",
      "48 characters.\n",
      "\n"
     ]
    }
   ],
   "source": [
    "# We extract the tweet with more FAVs and more RTs:\n",
    "\n",
    "fav_max = np.max(data['Likes'])\n",
    "rt_max  = np.max(data['RTs'])\n",
    "\n",
    "fav = data[data.Likes == fav_max].index[0]\n",
    "rt  = data[data.RTs == rt_max].index[0]\n",
    "\n",
    "# Max FAVs:\n",
    "print(\"The tweet with more likes is: \\n{}\".format(data['Tweets'][fav]))\n",
    "print(\"Number of likes: {}\".format(fav_max))\n",
    "print(\"{} characters.\\n\".format(data['len'][fav]))\n",
    "\n",
    "# Max RTs:\n",
    "print(\"The tweet with more retweets is: \\n{}\".format(data['Tweets'][rt]))\n",
    "print(\"Number of retweets: {}\".format(rt_max))\n",
    "print(\"{} characters.\\n\".format(data['len'][rt]))"
   ]
  },
  {
   "cell_type": "code",
   "execution_count": 28,
   "metadata": {
    "collapsed": true
   },
   "outputs": [],
   "source": [
    "# We create time series for data:\n",
    "\n",
    "tlen = pd.Series(data=data['len'].values, index=data['Date'])\n",
    "tfav = pd.Series(data=data['Likes'].values, index=data['Date'])\n",
    "tret = pd.Series(data=data['RTs'].values, index=data['Date'])"
   ]
  },
  {
   "cell_type": "code",
   "execution_count": 29,
   "metadata": {
    "collapsed": false
   },
   "outputs": [
    {
     "data": {
      "image/png": "[encoded data removed]",
      "text/plain": [
       "<matplotlib.figure.Figure at 0x2ccd56b2be0>"
      ]
     },
     "metadata": {},
     "output_type": "display_data"
    }
   ],
   "source": [
    "# Lenghts along time:\n",
    "tlen.plot(figsize=(16,4), color='r');"
   ]
  },
  {
   "cell_type": "code",
   "execution_count": 30,
   "metadata": {
    "collapsed": false
   },
   "outputs": [
    {
     "data": {
      "image/png": "[encoded data removed]",
      "text/plain": [
       "<matplotlib.figure.Figure at 0x2ccd56b2f60>"
      ]
     },
     "metadata": {},
     "output_type": "display_data"
    }
   ],
   "source": [
    "# Likes vs retweets visualization:\n",
    "tfav.plot(figsize=(16,4), label=\"Likes\", legend=True)\n",
    "tret.plot(figsize=(16,4), label=\"Retweets\", legend=True);"
   ]
  },
  {
   "cell_type": "code",
   "execution_count": 31,
   "metadata": {
    "collapsed": false
   },
   "outputs": [
    {
     "name": "stdout",
     "output_type": "stream",
     "text": [
      "Creation of content sources:\n",
      "* Twitter for iPhone\n",
      "* Instagram\n"
     ]
    }
   ],
   "source": [
    "# We obtain all possible sources:\n",
    "sources = []\n",
    "for source in data['Source']:\n",
    "    if source not in sources:\n",
    "        sources.append(source)\n",
    "\n",
    "# We print sources list:\n",
    "print(\"Creation of content sources:\")\n",
    "for source in sources:\n",
    "    print(\"* {}\".format(source))"
   ]
  },
  {
   "cell_type": "code",
   "execution_count": 32,
   "metadata": {
    "collapsed": false
   },
   "outputs": [
    {
     "data": {
      "image/png": "[encoded data removed]",
      "text/plain": [
       "<matplotlib.figure.Figure at 0x2ccdc8aa828>"
      ]
     },
     "metadata": {},
     "output_type": "display_data"
    }
   ],
   "source": [
    "# We create a numpy vector mapped to labels:\n",
    "percent = np.zeros(len(sources))\n",
    "\n",
    "for source in data['Source']:\n",
    "    for index in range(len(sources)):\n",
    "        if source == sources[index]:\n",
    "            percent[index] += 1\n",
    "            pass\n",
    "\n",
    "percent /= 100\n",
    "\n",
    "# Pie chart:\n",
    "pie_chart = pd.Series(percent, index=sources, name='Sources')\n",
    "pie_chart.plot.pie(fontsize=11, autopct='%.2f', figsize=(6, 6));"
   ]
  },
  {
   "cell_type": "code",
   "execution_count": 34,
   "metadata": {
    "collapsed": false
   },
   "outputs": [],
   "source": [
    "from textblob import TextBlob\n",
    "import re\n",
    "\n",
    "def clean_tweet(tweet):\n",
    "    '''\n",
    "    Utility function to clean the text in a tweet by removing \n",
    "    links and special characters using regex.\n",
    "    '''\n",
    "    return ' '.join(re.sub(\"(@[A-Za-z0-9]+)|([^0-9A-Za-z \\t])|(\\w+:\\/\\/\\S+)\", \" \", tweet).split())\n",
    "\n",
    "def analize_sentiment(tweet):\n",
    "    '''\n",
    "    Utility function to classify the polarity of a tweet\n",
    "    using textblob.\n",
    "    '''\n",
    "    analysis = TextBlob(clean_tweet(tweet))\n",
    "    if analysis.sentiment.polarity > 0:\n",
    "        return 1\n",
    "    elif analysis.sentiment.polarity == 0:\n",
    "        return 0\n",
    "    else:\n",
    "        return -1"
   ]
  },
  {
   "cell_type": "code",
   "execution_count": 35,
   "metadata": {
    "collapsed": false
   },
   "outputs": [
    {
     "data": {
      "text/html": [
       "<div>\n",
       "<table border=\"1\" class=\"dataframe\">\n",
       "  <thead>\n",
       "    <tr style=\"text-align: right;\">\n",
       "      <th></th>\n",
       "      <th>Tweets</th>\n",
       "      <th>len</th>\n",
       "      <th>ID</th>\n",
       "      <th>Date</th>\n",
       "      <th>Source</th>\n",
       "      <th>Likes</th>\n",
       "      <th>RTs</th>\n",
       "      <th>SA</th>\n",
       "    </tr>\n",
       "  </thead>\n",
       "  <tbody>\n",
       "    <tr>\n",
       "      <th>0</th>\n",
       "      <td>@tiamaria68uk Plus a towel and a sign saying “...</td>\n",
       "      <td>58</td>\n",
       "      <td>939005893634506752</td>\n",
       "      <td>2017-12-08 05:37:05</td>\n",
       "      <td>Twitter for iPhone</td>\n",
       "      <td>555</td>\n",
       "      <td>56</td>\n",
       "      <td>0</td>\n",
       "    </tr>\n",
       "    <tr>\n",
       "      <th>1</th>\n",
       "      <td>On Tuesday, SpaceX will attempt to refly both ...</td>\n",
       "      <td>117</td>\n",
       "      <td>938972633416306690</td>\n",
       "      <td>2017-12-08 03:24:55</td>\n",
       "      <td>Instagram</td>\n",
       "      <td>26009</td>\n",
       "      <td>4186</td>\n",
       "      <td>1</td>\n",
       "    </tr>\n",
       "    <tr>\n",
       "      <th>2</th>\n",
       "      <td>@tiamaria68uk Yes</td>\n",
       "      <td>17</td>\n",
       "      <td>938947119246860290</td>\n",
       "      <td>2017-12-08 01:43:32</td>\n",
       "      <td>Twitter for iPhone</td>\n",
       "      <td>443</td>\n",
       "      <td>17</td>\n",
       "      <td>0</td>\n",
       "    </tr>\n",
       "    <tr>\n",
       "      <th>3</th>\n",
       "      <td>@FortuneTech Do it</td>\n",
       "      <td>18</td>\n",
       "      <td>938816780444745728</td>\n",
       "      <td>2017-12-07 17:05:37</td>\n",
       "      <td>Twitter for iPhone</td>\n",
       "      <td>96365</td>\n",
       "      <td>21170</td>\n",
       "      <td>0</td>\n",
       "    </tr>\n",
       "    <tr>\n",
       "      <th>4</th>\n",
       "      <td>The *real* money comes from merchandising. I l...</td>\n",
       "      <td>101</td>\n",
       "      <td>937447589460426752</td>\n",
       "      <td>2017-12-03 22:24:56</td>\n",
       "      <td>Twitter for iPhone</td>\n",
       "      <td>21015</td>\n",
       "      <td>3827</td>\n",
       "      <td>1</td>\n",
       "    </tr>\n",
       "    <tr>\n",
       "      <th>5</th>\n",
       "      <td>@sm_carl Deal</td>\n",
       "      <td>13</td>\n",
       "      <td>937446602393841664</td>\n",
       "      <td>2017-12-03 22:21:01</td>\n",
       "      <td>Twitter for iPhone</td>\n",
       "      <td>849</td>\n",
       "      <td>30</td>\n",
       "      <td>0</td>\n",
       "    </tr>\n",
       "    <tr>\n",
       "      <th>6</th>\n",
       "      <td>That special hat delivery will take place deep...</td>\n",
       "      <td>140</td>\n",
       "      <td>937411489635241984</td>\n",
       "      <td>2017-12-03 20:01:30</td>\n",
       "      <td>Twitter for iPhone</td>\n",
       "      <td>10390</td>\n",
       "      <td>822</td>\n",
       "      <td>1</td>\n",
       "    </tr>\n",
       "    <tr>\n",
       "      <th>7</th>\n",
       "      <td>@NefuDaBoss Beyond anything you can imagine</td>\n",
       "      <td>43</td>\n",
       "      <td>937405455768346624</td>\n",
       "      <td>2017-12-03 19:37:31</td>\n",
       "      <td>Twitter for iPhone</td>\n",
       "      <td>942</td>\n",
       "      <td>46</td>\n",
       "      <td>0</td>\n",
       "    </tr>\n",
       "    <tr>\n",
       "      <th>8</th>\n",
       "      <td>@TheRealUtkarsh And, at the risk of stating th...</td>\n",
       "      <td>73</td>\n",
       "      <td>937404412858740736</td>\n",
       "      <td>2017-12-03 19:33:22</td>\n",
       "      <td>Twitter for iPhone</td>\n",
       "      <td>1240</td>\n",
       "      <td>31</td>\n",
       "      <td>-1</td>\n",
       "    </tr>\n",
       "    <tr>\n",
       "      <th>9</th>\n",
       "      <td>@TheRealUtkarsh Because it’s stupid</td>\n",
       "      <td>35</td>\n",
       "      <td>937403444192624640</td>\n",
       "      <td>2017-12-03 19:29:31</td>\n",
       "      <td>Twitter for iPhone</td>\n",
       "      <td>1043</td>\n",
       "      <td>36</td>\n",
       "      <td>-1</td>\n",
       "    </tr>\n",
       "  </tbody>\n",
       "</table>\n",
       "</div>"
      ],
      "text/plain": [
       "                                              Tweets  len                  ID  \\\n",
       "0  @tiamaria68uk Plus a towel and a sign saying “...   58  939005893634506752   \n",
       "1  On Tuesday, SpaceX will attempt to refly both ...  117  938972633416306690   \n",
       "2                                  @tiamaria68uk Yes   17  938947119246860290   \n",
       "3                                 @FortuneTech Do it   18  938816780444745728   \n",
       "4  The *real* money comes from merchandising. I l...  101  937447589460426752   \n",
       "5                                      @sm_carl Deal   13  937446602393841664   \n",
       "6  That special hat delivery will take place deep...  140  937411489635241984   \n",
       "7        @NefuDaBoss Beyond anything you can imagine   43  937405455768346624   \n",
       "8  @TheRealUtkarsh And, at the risk of stating th...   73  937404412858740736   \n",
       "9                @TheRealUtkarsh Because it’s stupid   35  937403444192624640   \n",
       "\n",
       "                 Date              Source  Likes    RTs  SA  \n",
       "0 2017-12-08 05:37:05  Twitter for iPhone    555     56   0  \n",
       "1 2017-12-08 03:24:55           Instagram  26009   4186   1  \n",
       "2 2017-12-08 01:43:32  Twitter for iPhone    443     17   0  \n",
       "3 2017-12-07 17:05:37  Twitter for iPhone  96365  21170   0  \n",
       "4 2017-12-03 22:24:56  Twitter for iPhone  21015   3827   1  \n",
       "5 2017-12-03 22:21:01  Twitter for iPhone    849     30   0  \n",
       "6 2017-12-03 20:01:30  Twitter for iPhone  10390    822   1  \n",
       "7 2017-12-03 19:37:31  Twitter for iPhone    942     46   0  \n",
       "8 2017-12-03 19:33:22  Twitter for iPhone   1240     31  -1  \n",
       "9 2017-12-03 19:29:31  Twitter for iPhone   1043     36  -1  "
      ]
     },
     "metadata": {},
     "output_type": "display_data"
    }
   ],
   "source": [
    "# We create a column with the result of the analysis:\n",
    "data['SA'] = np.array([ analize_sentiment(tweet) for tweet in data['Tweets'] ])\n",
    "\n",
    "# We display the updated dataframe with the new column:\n",
    "display(data.head(10))"
   ]
  },
  {
   "cell_type": "code",
   "execution_count": 36,
   "metadata": {
    "collapsed": true
   },
   "outputs": [],
   "source": [
    "# We construct lists with classified tweets:\n",
    "\n",
    "pos_tweets = [ tweet for index, tweet in enumerate(data['Tweets']) if data['SA'][index] > 0]\n",
    "neu_tweets = [ tweet for index, tweet in enumerate(data['Tweets']) if data['SA'][index] == 0]\n",
    "neg_tweets = [ tweet for index, tweet in enumerate(data['Tweets']) if data['SA'][index] < 0]"
   ]
  },
  {
   "cell_type": "code",
   "execution_count": 37,
   "metadata": {
    "collapsed": false
   },
   "outputs": [
    {
     "name": "stdout",
     "output_type": "stream",
     "text": [
      "Percentage of positive tweets: 39.5%\n",
      "Percentage of neutral tweets: 40.5%\n",
      "Percentage de negative tweets: 20.0%\n"
     ]
    }
   ],
   "source": [
    "# We print percentages:\n",
    "\n",
    "print(\"Percentage of positive tweets: {}%\".format(len(pos_tweets)*100/len(data['Tweets'])))\n",
    "print(\"Percentage of neutral tweets: {}%\".format(len(neu_tweets)*100/len(data['Tweets'])))\n",
    "print(\"Percentage de negative tweets: {}%\".format(len(neg_tweets)*100/len(data['Tweets'])))"
   ]
  }
 ],
 "metadata": {
  "kernelspec": {
   "display_name": "Python 3",
   "language": "python",
   "name": "python3"
  },
  "language_info": {
   "codemirror_mode": {
    "name": "ipython",
    "version": 3
   },
   "file_extension": ".py",
   "mimetype": "text/x-python",
   "name": "python",
   "nbconvert_exporter": "python",
   "pygments_lexer": "ipython3",
   "version": "3.6.0"
  }
 },
 "nbformat": 4,
 "nbformat_minor": 2
}
